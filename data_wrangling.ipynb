{
 "cells": [
  {
   "cell_type": "code",
   "execution_count": null,
   "id": "e8b29868-7342-4754-8410-0224c639d32f",
   "metadata": {},
   "outputs": [],
   "source": [
    "!pip install pandas\n",
    "!pip install numpy\n",
    "!pip install matplotlib\n",
    "!pip install seaborn"
   ]
  },
  {
   "cell_type": "code",
   "execution_count": null,
   "id": "57bdc098-0922-4fc8-83e7-e0215261ab4d",
   "metadata": {},
   "outputs": [],
   "source": [
    "import pandas as pd\n",
    "import numpy as np\n",
    "import matplotlib.pyplot as plt\n",
    "import seaborn as sn"
   ]
  },
  {
   "cell_type": "code",
   "execution_count": null,
   "id": "82e7e22c-39f1-4e62-ac74-7bccde5f1b38",
   "metadata": {},
   "outputs": [],
   "source": [
    "df=pd.read_csv(r\"C:\\Users\\DT User3\\Desktop\\Petar\\pre_procesing\\train.csv\")"
   ]
  },
  {
   "cell_type": "code",
   "execution_count": null,
   "id": "00cd02d5-19c0-4326-a334-44d2f41cf98b",
   "metadata": {},
   "outputs": [],
   "source": [
    "print(df.info())"
   ]
  },
  {
   "cell_type": "code",
   "execution_count": null,
   "id": "2344647b-55a6-4e61-bc5d-6857b479019c",
   "metadata": {},
   "outputs": [],
   "source": [
    "print(df.isnull().sum())\n"
   ]
  },
  {
   "cell_type": "code",
   "execution_count": null,
   "id": "16a2df11-0792-4146-af2a-0a9e37c6a5dd",
   "metadata": {},
   "outputs": [],
   "source": [
    "# Alternative using dropna\n",
    "df['Cabin'] = df['Cabin'].fillna('Unknown')\n"
   ]
  },
  {
   "cell_type": "code",
   "execution_count": null,
   "id": "a4cd317e-b1d0-4b1d-91f8-df237f50affc",
   "metadata": {},
   "outputs": [],
   "source": [
    "print(df.head())"
   ]
  },
  {
   "cell_type": "code",
   "execution_count": null,
   "id": "f2c45eb4-cb72-4c55-86ea-68c57e138ba2",
   "metadata": {},
   "outputs": [],
   "source": [
    "avg_age = df[\"Age\"].astype(\"float\").mean(axis = 0)\n",
    "df[\"Age\"].replace(np.nan, avg_age, inplace = True)"
   ]
  },
  {
   "cell_type": "code",
   "execution_count": null,
   "id": "6456ef19-df31-4894-8f01-758e74d6e849",
   "metadata": {},
   "outputs": [],
   "source": [
    "df['Embarked'] = df['Embarked'].fillna('Unknown')"
   ]
  },
  {
   "cell_type": "code",
   "execution_count": null,
   "id": "8e994b9c-6f23-49e5-bf98-539bced05525",
   "metadata": {},
   "outputs": [],
   "source": [
    "bins = np.linspace(min(df['Age']), max(df['Age']), 6)  # Create 6 edges for 5 bins\n",
    "GroupNames = ['Child', 'Teen', 'YoungAdult', 'Adult', 'Senior']\n",
    "\n",
    "# Apply binning\n",
    "df['binned_age'] = pd.cut(df['Age'], bins=bins, labels=GroupNames, include_lowest=True)"
   ]
  },
  {
   "cell_type": "code",
   "execution_count": null,
   "id": "c4028f82-d076-46d5-988d-65a849cff53d",
   "metadata": {},
   "outputs": [],
   "source": [
    "df.head()"
   ]
  },
  {
   "cell_type": "code",
   "execution_count": null,
   "id": "1ecd8856-a541-4d8e-869c-9de92ef3cdc1",
   "metadata": {},
   "outputs": [],
   "source": [
    "#normalization\n",
    "df['Age'] = df['Age']/df['Age'].max()"
   ]
  },
  {
   "cell_type": "code",
   "execution_count": null,
   "id": "d3bcccc7-68d8-4749-a43f-34b0075eb420",
   "metadata": {},
   "outputs": [],
   "source": [
    "#normalization\n",
    "df['Fare'] = df['Fare']/df['Fare'].max()"
   ]
  },
  {
   "cell_type": "code",
   "execution_count": null,
   "id": "b93a0801-0109-40cd-87ea-528c44975410",
   "metadata": {},
   "outputs": [],
   "source": [
    "#indicator_values\n",
    "dummy_variable = pd.get_dummies(df['Sex'])\n",
    "dummy_variable = dummy_variable.astype(int)\n",
    "df = pd.concat([df, dummy_variable],axis = 1)\n",
    "df = df.drop(columns=['Sex'])"
   ]
  },
  {
   "cell_type": "code",
   "execution_count": null,
   "id": "5a772e68-3a92-475d-add9-ea5861a0effe",
   "metadata": {},
   "outputs": [],
   "source": [
    "df.head()"
   ]
  },
  {
   "cell_type": "code",
   "execution_count": null,
   "id": "1389e68e-f277-431c-8e5c-b67b90a47b1f",
   "metadata": {},
   "outputs": [],
   "source": [
    "plt.figure(figsize=(10, 6))  # Set figure size\n",
    "plt.hist(df['binned_age'], color='skyblue', edgecolor='black')  # Plot histogram\n",
    "plt.title('Age Distribution', fontsize=16)  # Add title\n",
    "plt.xlabel('binned_age', fontsize=14)  # Add x-axis label\n",
    "plt.ylabel('Count', fontsize=14)  # Add y-axis label\n",
    "plt.show()\n"
   ]
  },
  {
   "cell_type": "code",
   "execution_count": null,
   "id": "89719b55-fb33-4658-b928-78a66149907a",
   "metadata": {},
   "outputs": [],
   "source": [
    "plt.figure(figsize=(10, 6))\n",
    "sn.histplot(df['binned_age'], kde=True, color='skyblue')  # Add a KDE curve to show the probability distribution\n",
    "plt.title('Age Distribution with KDE', fontsize=16)\n",
    "plt.xlabel('Age', fontsize=14)\n",
    "plt.ylabel('Count', fontsize=14)\n",
    "plt.show()"
   ]
  },
  {
   "cell_type": "code",
   "execution_count": null,
   "id": "fb79da55-1afd-4258-b5bc-2396a6a999f5",
   "metadata": {},
   "outputs": [],
   "source": [
    "# Calculate survival rate by gender using the dummy variables (female and male)\n",
    "survived_by_gender = df.groupby('female')['Survived'].mean()  # Using the 'female' column\n",
    "\n",
    "# Plot the bar chart\n",
    "plt.figure(figsize=(8, 6))\n",
    "plt.bar(survived_by_gender.index, survived_by_gender, color=['skyblue', 'pink'])  # Color for female and male\n",
    "plt.title('Survival Rate by Gender', fontsize=16)\n",
    "plt.ylabel('Survival Rate', fontsize=14)\n",
    "plt.xlabel('Gender (0=Male, 1=Female)', fontsize=14)\n",
    "plt.xticks([0, 1], ['Male', 'Female'])  # Customize x-axis to show 'Male' and 'Female'\n",
    "plt.show()\n",
    "\n"
   ]
  },
  {
   "cell_type": "code",
   "execution_count": null,
   "id": "56b1901a-ea6c-46be-a91c-fa6d346f82f2",
   "metadata": {},
   "outputs": [],
   "source": [
    "survival_rate_by_binned_age = df.groupby('binned_age')['Survived'].mean() * 100  # Multiplied by 100 to get percentage\n",
    "\n",
    "# Step 2: Plot the survival rate for each binned age group\n",
    "survival_rate_by_binned_age.plot(kind='bar', color='skyblue', edgecolor='black')\n",
    "plt.title('Survival Rate by Binned Age')\n",
    "plt.xlabel('Age Group')\n",
    "plt.ylabel('Survival Rate (%)')\n",
    "plt.xticks(rotation=45)\n",
    "plt.show()"
   ]
  },
  {
   "cell_type": "code",
   "execution_count": null,
   "id": "40341661-e33f-4b95-8c49-0296e1b9fe07",
   "metadata": {},
   "outputs": [],
   "source": []
  }
 ],
 "metadata": {
  "kernelspec": {
   "display_name": "Python 3 (ipykernel)",
   "language": "python",
   "name": "python3"
  },
  "language_info": {
   "codemirror_mode": {
    "name": "ipython",
    "version": 3
   },
   "file_extension": ".py",
   "mimetype": "text/x-python",
   "name": "python",
   "nbconvert_exporter": "python",
   "pygments_lexer": "ipython3",
   "version": "3.13.0"
  }
 },
 "nbformat": 4,
 "nbformat_minor": 5
}
